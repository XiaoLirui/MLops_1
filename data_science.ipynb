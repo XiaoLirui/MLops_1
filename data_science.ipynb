{
  "nbformat": 4,
  "nbformat_minor": 0,
  "metadata": {
    "colab": {
      "provenance": [],
      "authorship_tag": "ABX9TyOuHq4/svNCXfKQ71gcvClV",
      "include_colab_link": true
    },
    "kernelspec": {
      "name": "python3",
      "display_name": "Python 3"
    },
    "language_info": {
      "name": "python"
    }
  },
  "cells": [
    {
      "cell_type": "markdown",
      "metadata": {
        "id": "view-in-github",
        "colab_type": "text"
      },
      "source": [
        "<a href=\"https://colab.research.google.com/github/XiaoLirui/MLops_1/blob/main/data_science.ipynb\" target=\"_parent\"><img src=\"https://colab.research.google.com/assets/colab-badge.svg\" alt=\"Open In Colab\"/></a>"
      ]
    },
    {
      "cell_type": "code",
      "execution_count": null,
      "metadata": {
        "id": "kU9d7Rv0NWwu"
      },
      "outputs": [],
      "source": [
        "###Ingest"
      ]
    },
    {
      "cell_type": "markdown",
      "source": [
        "###Ingest"
      ],
      "metadata": {
        "id": "34dK_OOYPgjH"
      }
    },
    {
      "cell_type": "code",
      "source": [],
      "metadata": {
        "id": "1KmihF9WPh9U"
      },
      "execution_count": null,
      "outputs": []
    }
  ]
}